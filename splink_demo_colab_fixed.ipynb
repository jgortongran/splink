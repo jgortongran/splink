{
  "cells": [
    {
      "cell_type": "markdown",
      "id": "45b0cfe0",
      "metadata": {},
      "source": [
        "# \ud83d\udd17 Splink Demo: Probabilistic Record Linkage in Google Colab\n",
        "\n",
        "This notebook demonstrates how to use [Splink](https://github.com/moj-analytical-services/splink) for probabilistic record linkage using a synthetic dataset. We'll use the DuckDB backend for simplicity."
      ]
    },
    {
      "cell_type": "code",
      "execution_count": null,
      "id": "85da5790",
      "metadata": {},
      "outputs": [],
      "source": [
        "!pip install \"splink[duckdb]\" -q"
      ]
    },
    {
      "cell_type": "code",
      "execution_count": null,
      "id": "c7b23df7",
      "metadata": {},
      "outputs": [],
      "source": [
        "import pandas as pd\n",
        "import numpy as np\n",
        "from splink.duckdb.linker import DuckDBLinker\n",
        "import matplotlib.pyplot as plt\n",
        "import seaborn as sns\n"
      ]
    },
    {
      "cell_type": "markdown",
      "id": "c2ac9fce",
      "metadata": {},
      "source": [
        "## \ud83e\uddea Create Synthetic Dataset"
      ]
    },
    {
      "cell_type": "code",
      "execution_count": null,
      "id": "1d178a73",
      "metadata": {},
      "outputs": [],
      "source": [
        "np.random.seed(42)\n",
        "\n",
        "# Base dataset\n",
        "first_names = ['Alice', 'Bob', 'Charlie', 'Diana', 'Eve']\n",
        "last_names = ['Smith', 'Johnson', 'Williams', 'Brown', 'Jones']\n",
        "domains = ['example.com', 'test.org', 'demo.net']\n",
        "\n",
        "def generate_record(i):\n",
        "    fn = np.random.choice(first_names)\n",
        "    ln = np.random.choice(last_names)\n",
        "    email = f\"{fn.lower()}.{ln.lower()}@{np.random.choice(domains)}\"\n",
        "    return {\"unique_id\": i, \"first_name\": fn, \"last_name\": ln, \"email\": email}\n",
        "\n",
        "records = [generate_record(i) for i in range(100)]\n",
        "df = pd.DataFrame(records)\n",
        "\n",
        "# Introduce duplicates with slight variations\n",
        "duplicates = df.sample(10).copy()\n",
        "duplicates[\"first_name\"] = duplicates[\"first_name\"].apply(lambda x: x if np.random.rand() > 0.5 else x[:-1])\n",
        "duplicates[\"last_name\"] = duplicates[\"last_name\"].apply(lambda x: x if np.random.rand() > 0.5 else x[:-1])\n",
        "duplicates[\"email\"] = duplicates[\"email\"].apply(lambda x: x.replace('@', '_dup@'))\n",
        "\n",
        "df_combined = pd.concat([df, duplicates], ignore_index=True)\n",
        "df_combined.reset_index(drop=True, inplace=True)\n",
        "df_combined.head()\n"
      ]
    },
    {
      "cell_type": "markdown",
      "id": "4cec1327",
      "metadata": {},
      "source": [
        "## \u2699\ufe0f Configure Splink"
      ]
    },
    {
      "cell_type": "code",
      "execution_count": null,
      "id": "f24f7b0b",
      "metadata": {},
      "outputs": [],
      "source": [
        "settings = {\n",
        "    \"link_type\": \"dedupe_only\",\n",
        "    \"blocking_rules_to_generate_predictions\": [\n",
        "        \"l.first_name = r.first_name\",\n",
        "        \"l.last_name = r.last_name\"\n",
        "    ],\n",
        "    \"comparisons\": [\n",
        "        {\n",
        "            \"col_name\": \"first_name\",\n",
        "            \"comparison_levels\": [\n",
        "                {\"sql_condition\": \"l.first_name = r.first_name\", \"label\": \"Exact match\"},\n",
        "                {\"sql_condition\": \"levenshtein(l.first_name, r.first_name) <= 1\", \"label\": \"Fuzzy match\"},\n",
        "                {\"sql_condition\": \"else\", \"label\": \"No match\"}\n",
        "            ]\n",
        "        },\n",
        "        {\n",
        "            \"col_name\": \"last_name\",\n",
        "            \"comparison_levels\": [\n",
        "                {\"sql_condition\": \"l.last_name = r.last_name\", \"label\": \"Exact match\"},\n",
        "                {\"sql_condition\": \"else\", \"label\": \"No match\"}\n",
        "            ]\n",
        "        },\n",
        "        {\n",
        "            \"col_name\": \"email\",\n",
        "            \"comparison_levels\": [\n",
        "                {\"sql_condition\": \"l.email = r.email\", \"label\": \"Exact match\"},\n",
        "                {\"sql_condition\": \"else\", \"label\": \"No match\"}\n",
        "            ]\n",
        "        }\n",
        "    ]\n",
        "}\n"
      ]
    },
    {
      "cell_type": "markdown",
      "id": "5dfa2664",
      "metadata": {},
      "source": [
        "## \ud83d\udd17 Initialize Linker and Train Model"
      ]
    },
    {
      "cell_type": "code",
      "execution_count": null,
      "id": "ad18f1b6",
      "metadata": {},
      "outputs": [],
      "source": [
        "linker = DuckDBLinker(df_combined, settings)\n",
        "linker.estimate_u_using_random_sampling(max_pairs=1e6)\n",
        "linker.estimate_probability_two_random_records_match()\n",
        "linker.estimate_parameters_using_expectation_maximisation()\n"
      ]
    },
    {
      "cell_type": "markdown",
      "id": "7c78b506",
      "metadata": {},
      "source": [
        "## \ud83d\udcca Predict Matches and View Results"
      ]
    },
    {
      "cell_type": "code",
      "execution_count": null,
      "id": "8d881f34",
      "metadata": {},
      "outputs": [],
      "source": [
        "df_predictions = linker.predict()\n",
        "df_predictions = df_predictions.as_pandas_dataframe()\n",
        "df_predictions[['unique_id_l', 'unique_id_r', 'match_probability']].sort_values(by='match_probability', ascending=False).head(10)\n"
      ]
    },
    {
      "cell_type": "markdown",
      "id": "5aa5fcd9",
      "metadata": {},
      "source": [
        "## \ud83d\udcc8 Visualize Match Probabilities"
      ]
    },
    {
      "cell_type": "code",
      "execution_count": null,
      "id": "e7f43e01",
      "metadata": {},
      "outputs": [],
      "source": [
        "sns.histplot(df_predictions['match_probability'], bins=20, kde=True)\n",
        "plt.title(\"Distribution of Match Probabilities\")\n",
        "plt.xlabel(\"Match Probability\")\n",
        "plt.ylabel(\"Frequency\")\n",
        "plt.show()\n"
      ]
    }
  ],
  "metadata": {},
  "nbformat": 4,
  "nbformat_minor": 5
}